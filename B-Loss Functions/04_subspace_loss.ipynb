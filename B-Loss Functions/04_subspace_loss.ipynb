{
 "cells": [
  {
   "cell_type": "code",
   "execution_count": 1,
   "metadata": {},
   "outputs": [],
   "source": [
    "# -------- Imports --------\n",
    "import sys\n",
    "import os\n",
    "import numpy as np\n",
    "import scipy.sparse as sp\n",
    "sys.path.insert(0, os.path.abspath(os.path.join(os.getcwd(), '..')))\n",
    "from _utility import *\n"
   ]
  },
  {
   "cell_type": "code",
   "execution_count": 2,
   "metadata": {},
   "outputs": [],
   "source": [
    "# -------- Parameters --------\n",
    "# -- Grid parameters --\n",
    "Nx, Ny  = 200, 200\n",
    "dx, dy = 1.0, 1.0\n",
    "psi_len = Nx*Ny + (Nx-1)*Ny + Nx*(Ny-1) # Number of values for the staggered grid\n",
    "\n",
    "# -- Wave field definition --\n",
    "# Pressure field (u)\n",
    "f0 = 5.0            # Central frequency of the Ricker wavelet\n",
    "x0, y0 = 50.0, 0.0  # Wavelet center\n",
    "X, Y = np.meshgrid(np.linspace(-1, 1, Nx), np.linspace(-1, 1, Ny))\n",
    "u0 = Ricker(f0, X, Y, 0, x0/Nx, y0/Ny)\n",
    "\n",
    "# Particle velocity field x (vx)\n",
    "v0x = np.zeros((Ny, (Nx-1)))\n",
    "\n",
    "# Particle velocity field y (vy)\n",
    "v0y = np.zeros(((Ny-1), Nx))\n",
    "\n",
    "# Stack the wave field components\n",
    "phi_0 = np.hstack([u0.flatten(), v0x.flatten(), v0y.flatten()])\n",
    "\n",
    "# -- Material properties --\n",
    "# Velocity (c)\n",
    "c0 = 3\n",
    "c_model = c0 * np.ones((Ny, Nx))\n",
    "\n",
    "# Density (rho)\n",
    "rho0 = 2\n",
    "rho_model = rho0 * np.ones((Ny, Nx))\n",
    "rho_stag_x = rho0 * np.ones((Ny, (Nx-1)))\n",
    "rho_stag_y = rho0 * np.ones(((Ny-1), Nx))\n",
    "\n",
    "# -- Subspace mask --\n",
    "mask = sp.diags(np.random.choice([0, 1], size=psi_len, p=[0.5, 0.5]))\n"
   ]
  },
  {
   "cell_type": "code",
   "execution_count": 3,
   "metadata": {},
   "outputs": [],
   "source": [
    "# -------- Material Transform (Acoustic) --------\n",
    "(B, B_sqrt, B_inv, _) = compute_B(c_model, rho_model, rho_stag_x, rho_stag_y)\n"
   ]
  },
  {
   "cell_type": "code",
   "execution_count": null,
   "metadata": {},
   "outputs": [
    {
     "name": "stdout",
     "output_type": "stream",
     "text": [
      "Ground-Truth Energy: 0.8838\n",
      "Hermitian Observable: True\n",
      "Expectation Value: 0.5048\n",
      "Energy Estimate: 0.8838\n"
     ]
    }
   ],
   "source": [
    "# -------- Loss function 1: Subspace Energy (one state) --------\n",
    "# Normalize the state and transform it to the energy basis (quantum state)\n",
    "psi_0 = B_sqrt @ phi_0\n",
    "norm = np.linalg.norm(psi_0)\n",
    "psi_0 /= norm\n",
    "\n",
    "# Compute the ground-truth energy (uniform element volume)\n",
    "EN_GT = (1/2) * np.linalg.norm(B_sqrt @ (mask @ phi_0))**2 * (dx * dy)\n",
    "print('Ground-Truth Energy:', EN_GT.round(4))\n",
    "\n",
    "# Define quantum observable\n",
    "O_EN = mask\n",
    "print('Hermitian Observable:', not (O_EN - O_EN.conj().T).nnz)\n",
    "\n",
    "# Compute expectation value (quantum measurement)\n",
    "E_EN = np.abs(psi_0.conj().T @ O_EN @ psi_0)\n",
    "print('Expectation Value:', E_EN.round(4))\n",
    "\n",
    "# Compute the energy loss (post-processing)\n",
    "EN_QC = (1/2) * E_EN * norm**2 * (dx * dy)\n",
    "print('Energy Estimate:', EN_QC.round(4))\n"
   ]
  },
  {
   "cell_type": "code",
   "execution_count": null,
   "metadata": {},
   "outputs": [
    {
     "name": "stdout",
     "output_type": "stream",
     "text": [
      "Ground-Truth L2 Distance: 82.5013\n",
      "Hermitian Observable: True\n",
      "Expectation Value: 0.9992\n",
      "L2 Estimate: 82.5013\n"
     ]
    }
   ],
   "source": [
    "# -------- Loss function 2: Subspace Energy-transformed L2 Distance  (two states) --------\n",
    "# Add a comparison state\n",
    "rand = (np.random.rand(psi_len) - 0.5) * 1\n",
    "phi_c = mask @ (phi_0 + rand)\n",
    "phi_l2 = np.hstack([phi_0, phi_c])\n",
    "\n",
    "# Normalize the state and transform it to the energy basis (quantum state)\n",
    "psi_l2 = sp.block_diag(2*[B_sqrt]) @ phi_l2\n",
    "norm = np.linalg.norm(psi_l2)\n",
    "psi_l2 /= norm\n",
    "\n",
    "# Compute the ground-truth L2 distance\n",
    "L2_GT = np.linalg.norm(B_sqrt @ (mask @ phi_0) - B_sqrt @ phi_c)\n",
    "print('Ground-Truth L2 Distance:', L2_GT.round(4))\n",
    "\n",
    "# Define quantum observable\n",
    "O_L2 = sp.block_array([[mask, -mask],\n",
    "                       [-mask, mask]])\n",
    "print('Hermitian Observable:', not (O_L2 - O_L2.conj().T).nnz)\n",
    "\n",
    "# Compute expectation value (quantum measurement)\n",
    "E_L2 = np.abs(psi_l2.conj().T @ O_L2 @ psi_l2)\n",
    "print('Expectation Value:', E_L2.round(4))\n",
    "\n",
    "# Compute the l2 loss (post-processing)\n",
    "L2_QC = np.sqrt(E_L2) * norm\n",
    "print('L2 Estimate:', L2_QC.round(4))\n"
   ]
  },
  {
   "cell_type": "code",
   "execution_count": null,
   "metadata": {},
   "outputs": [],
   "source": []
  }
 ],
 "metadata": {
  "kernelspec": {
   "display_name": "qc_v1",
   "language": "python",
   "name": "python3"
  },
  "language_info": {
   "codemirror_mode": {
    "name": "ipython",
    "version": 3
   },
   "file_extension": ".py",
   "mimetype": "text/x-python",
   "name": "python",
   "nbconvert_exporter": "python",
   "pygments_lexer": "ipython3",
   "version": "3.12.7"
  }
 },
 "nbformat": 4,
 "nbformat_minor": 2
}
