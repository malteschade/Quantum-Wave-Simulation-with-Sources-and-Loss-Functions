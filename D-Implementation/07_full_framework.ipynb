{
 "cells": [
  {
   "cell_type": "code",
   "execution_count": 18,
   "metadata": {},
   "outputs": [],
   "source": [
    "# -------- Imports --------\n",
    "import sys\n",
    "import os\n",
    "import numpy as np\n",
    "import scipy.sparse as sp\n",
    "sys.path.insert(0, os.path.abspath(os.path.join(os.getcwd(), '..')))\n",
    "from _utility import *\n",
    "\n",
    "# -- Qiskit imports --\n",
    "from qiskit import QuantumCircuit, QuantumRegister\n",
    "from qiskit.circuit.library import PauliEvolutionGate\n",
    "from qiskit.synthesis import MatrixExponential\n",
    "from qiskit.quantum_info import SparsePauliOp, Operator\n",
    "from qiskit.primitives import StatevectorEstimator\n"
   ]
  },
  {
   "cell_type": "code",
   "execution_count": 19,
   "metadata": {},
   "outputs": [],
   "source": [
    "# -------- Parameters --------\n",
    "# -- Grid parameters --\n",
    "Nx, Ny  = 8, 8\n",
    "dx, dy = 1.0, 1.0\n",
    "psi_len = Nx*Ny + (Nx-1)*Ny + Nx*(Ny-1) # Number of values for the staggered grid\n",
    "\n",
    "# -- Simulation parameters --\n",
    "t = 5.0\n"
   ]
  },
  {
   "cell_type": "code",
   "execution_count": 20,
   "metadata": {},
   "outputs": [
    {
     "name": "stdout",
     "output_type": "stream",
     "text": [
      "Hamiltonian shape:  (256, 256)\n",
      "Hamiltonian NNZ-Ratio:  0.0068359375\n",
      "Pauli Terms (inefficient representation):  2548\n"
     ]
    }
   ],
   "source": [
    "# Important: The following implementation of the material parameters is not scalable. This code is only for demonstration purposes and assumes oracle access. \n",
    "# In a real-world scenario, the material parameters and the Hamiltonian need to be sparsly constructed on the QC itself.\n",
    "# Furthermore, this code uses direct matrix exponentiation, which is inefficient for large matrices. Other integration methods should be used (e.g. Trotter-Suzuki, Qubitization).\n",
    "\n",
    "# -- Material properties (Oracle Access) -- \n",
    "# Velocity (c)\n",
    "c0 = 3\n",
    "c_model = c0 * np.ones((Ny, Nx))\n",
    "\n",
    "# Density (rho)\n",
    "rho0 = 2\n",
    "rho_model = rho0 * np.ones((Ny, Nx))\n",
    "rho_stag_x = rho0 * np.ones((Ny, (Nx-1)))\n",
    "rho_stag_y = rho0 * np.ones(((Ny-1), Nx))\n",
    "\n",
    "# -------- Simulation (2D Acoustic) (Oracle Access) --------\n",
    "(H, A, _, B_sqrt, B_inv, _) = FD_solver_2D_quantum(Nx, Ny, dx, dy, c_model, rho_model, rho_stag_x, rho_stag_y)\n",
    "H_pauli = SparsePauliOp.from_operator(Operator(H.toarray())) # Expensive conversion\n",
    "print(\"Hamiltonian shape: \", H.shape)\n",
    "print(\"Hamiltonian NNZ-Ratio: \", H.nnz/H.shape[0]**2)\n",
    "print(\"Pauli Terms (inefficient representation): \", len(H_pauli))\n"
   ]
  },
  {
   "cell_type": "code",
   "execution_count": 21,
   "metadata": {},
   "outputs": [
    {
     "name": "stdout",
     "output_type": "stream",
     "text": [
      "Initial state NNZ-Ratio: 0.29545454545454547\n"
     ]
    }
   ],
   "source": [
    "# -- Initial Conditions --\n",
    "# Pressure field (u)\n",
    "f0 = 2.0            # Central frequency of the Ricker wavelet\n",
    "x0, y0 = 0.0, 0.0   # Wavelet center\n",
    "X, Y = np.meshgrid(np.linspace(-1, 1, Nx), np.linspace(-1, 1, Ny))\n",
    "u0 = sp.csr_array(np.round(Ricker(f0, X, Y, 0, x0/Nx, y0/Ny), 20))\n",
    "\n",
    "# Particle velocity field x (vx)\n",
    "v0x = sp.csr_array((Ny, (Nx-1)))\n",
    "\n",
    "# Particle velocity field y (vy)\n",
    "v0y = sp.csr_array(((Ny-1), Nx))\n",
    "\n",
    "# Stack the initial conditions\n",
    "phi_0 = sp.vstack([u0.reshape(-1, 1), v0x.reshape(-1, 1), v0y.reshape(-1, 1)])\n",
    "\n",
    "# Pad the initial conditions with zeros\n",
    "phi_0 = sp.vstack([phi_0, sp.csr_matrix((H.shape[0]- psi_len, 1))]).toarray().flatten()\n",
    "\n",
    "# Normalize the initial state and transform it to the energy basis\n",
    "psi_0 = B_sqrt @ phi_0\n",
    "norm = np.linalg.norm(psi_0)\n",
    "psi_0 /= norm\n",
    "\n",
    "# Number of non-zero initial state values\n",
    "psi_0_nnz = np.sum(psi_0 != 0)\n",
    "print('Initial state NNZ-Ratio:', psi_0_nnz/psi_len)\n"
   ]
  },
  {
   "cell_type": "code",
   "execution_count": 22,
   "metadata": {},
   "outputs": [
    {
     "name": "stdout",
     "output_type": "stream",
     "text": [
      "Number of qubits:  8\n"
     ]
    }
   ],
   "source": [
    "# -------- Quantum Circuit --------\n",
    "# -- Time-evolution Synthesis --\n",
    "synthesis = MatrixExponential()\n",
    "evo = PauliEvolutionGate(H_pauli, time=t, synthesis=synthesis)\n",
    "\n",
    "# -- Quantum Simulation --\n",
    "# Number of qubits\n",
    "n = (H.shape[0]-1).bit_length()\n",
    "print(\"Number of qubits: \", n)\n",
    "\n",
    "# Define the quantum registers\n",
    "reg_wave = QuantumRegister(n, 'wave')\n",
    "\n",
    "# Initialize the quantum circuit\n",
    "qc = QuantumCircuit(reg_wave)\n",
    "qc.prepare_state(psi_0, reg_wave)\n",
    "qc.append(evo, reg_wave)\n",
    "\n",
    "# Define observable\n",
    "m = 32 # Estimate energy of the first 32 DOFs (only potential energy)\n",
    "obs = sp.block_diag([sp.eye(m), sp.csr_matrix((2**n-m, 2**n-m))]).toarray()\n",
    "observable = SparsePauliOp.from_operator(Operator(obs))\n"
   ]
  },
  {
   "cell_type": "code",
   "execution_count": 23,
   "metadata": {},
   "outputs": [
    {
     "name": "stdout",
     "output_type": "stream",
     "text": [
      " > Expectation value: 0.21620245890323925\n",
      " > Metadata: {'target_precision': 1e-08, 'circuit_metadata': {}}\n"
     ]
    }
   ],
   "source": [
    "# -------- Simulation --------\n",
    "# Simulate the quantum circuit\n",
    "estimator = StatevectorEstimator()\n",
    "job = estimator.run([(qc, observable)], precision=1e-8)\n",
    "result = job.result()\n",
    "print(f\" > Expectation value: {result[0].data.evs}\")\n",
    "print(f\" > Metadata: {result[0].metadata}\")\n"
   ]
  },
  {
   "cell_type": "code",
   "execution_count": 24,
   "metadata": {},
   "outputs": [
    {
     "name": "stdout",
     "output_type": "stream",
     "text": [
      "Subspace Energy Estimate (quantum): 0.00473019\n"
     ]
    }
   ],
   "source": [
    "# Compute the energy loss (post-processing)\n",
    "E = result[0].data.evs\n",
    "EN_QC = (1/2) * E * norm**2 * (dx * dy)\n",
    "print('Subspace Energy Estimate (quantum):', EN_QC.round(8))\n"
   ]
  },
  {
   "cell_type": "code",
   "execution_count": 25,
   "metadata": {},
   "outputs": [
    {
     "name": "stdout",
     "output_type": "stream",
     "text": [
      "Subspace Energy Estimate (classical): 0.0047238\n"
     ]
    }
   ],
   "source": [
    "# Time Integration\n",
    "phi_t = solve_ivp(lambda t, phi: (B_inv @ A @ phi), (0, t), phi_0, t_eval=(0,t), method='DOP853').y.T[-1]\n",
    "EN_CL = (1/2) * np.linalg.norm((B_sqrt @ phi_t)[:m], axis=0)**2 * (dx * dy)\n",
    "print('Subspace Energy Estimate (classical):', EN_CL.round(8))\n"
   ]
  },
  {
   "cell_type": "code",
   "execution_count": null,
   "metadata": {},
   "outputs": [],
   "source": []
  }
 ],
 "metadata": {
  "kernelspec": {
   "display_name": "qc_v1",
   "language": "python",
   "name": "python3"
  },
  "language_info": {
   "codemirror_mode": {
    "name": "ipython",
    "version": 3
   },
   "file_extension": ".py",
   "mimetype": "text/x-python",
   "name": "python",
   "nbconvert_exporter": "python",
   "pygments_lexer": "ipython3",
   "version": "3.12.7"
  }
 },
 "nbformat": 4,
 "nbformat_minor": 2
}
